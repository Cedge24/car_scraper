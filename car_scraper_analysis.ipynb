{
 "cells": [
  {
   "cell_type": "code",
   "execution_count": 16,
   "id": "5fdb877b",
   "metadata": {},
   "outputs": [],
   "source": [
    "import pandas as pd\n",
    "import numpy as np\n",
    "import matplotlib as plt\n",
    "\n",
    "from bs4 import BeautifulSoup\n",
    "from selenium import webdriver\n",
    "from requests import get"
   ]
  },
  {
   "cell_type": "markdown",
   "id": "693d436c",
   "metadata": {},
   "source": [
    "https://www.tonkin.com/inventory/new/\n",
    "\n",
    "https://www.cars.com/shopping/results/?stock_type=new&makes%5B%5D=&models%5B%5D=&list_price_max=&maximum_distance=200&zip=97209"
   ]
  },
  {
   "cell_type": "code",
   "execution_count": 38,
   "id": "5dafa1e3",
   "metadata": {},
   "outputs": [],
   "source": [
    "base_url = 'https://www.tonkin.com/inventory/new/'"
   ]
  },
  {
   "cell_type": "code",
   "execution_count": 35,
   "id": "127f5a13",
   "metadata": {},
   "outputs": [],
   "source": [
    "# selenium to wait for dynamic JS elements (not needed for this URL)\n",
    "#driver = webdriver.Firefox()\n",
    "#driver.get(base_url)\n",
    "#time.sleep(10)"
   ]
  },
  {
   "cell_type": "code",
   "execution_count": 36,
   "id": "8a93704c",
   "metadata": {},
   "outputs": [
    {
     "name": "stdout",
     "output_type": "stream",
     "text": [
      "<Response [200]>\n"
     ]
    }
   ],
   "source": [
    "response = get(base_url)\n",
    "print(response) # should be 200"
   ]
  },
  {
   "cell_type": "code",
   "execution_count": 33,
   "id": "ee96d1ed",
   "metadata": {
    "scrolled": true
   },
   "outputs": [],
   "source": [
    "html_soup = BeautifulSoup(response.text,'html.parser')\n",
    "#print(html_soup)"
   ]
  },
  {
   "cell_type": "code",
   "execution_count": 29,
   "id": "1425d979",
   "metadata": {},
   "outputs": [
    {
     "name": "stdout",
     "output_type": "stream",
     "text": [
      "[<div class=\"label\">Cabriolet</div>, <div class=\"label\">Hatchback</div>, <div class=\"label\">Minivan</div>, <div class=\"label\">Coupe</div>, <div class=\"label\">Sedan</div>, <div class=\"label\">Truck</div>, <div class=\"label\">Wagon</div>, <div class=\"label\">SUV</div>, <div class=\"label\">Van</div>, <div class=\"label\">Cabriolet</div>, <div class=\"label\">Hatchback</div>, <div class=\"label\">Minivan</div>, <div class=\"label\">Coupe</div>, <div class=\"label\">Sedan</div>, <div class=\"label\">Truck</div>, <div class=\"label\">Wagon</div>, <div class=\"label\">SUV</div>, <div class=\"label\">Van</div>]\n"
     ]
    }
   ],
   "source": [
    "content_list = html_soup.find_all('div', attrs={'class': 'label'})\n",
    "print(content_list)"
   ]
  },
  {
   "cell_type": "code",
   "execution_count": 28,
   "id": "e9caf646",
   "metadata": {},
   "outputs": [
    {
     "name": "stdout",
     "output_type": "stream",
     "text": [
      "[[], []]\n"
     ]
    }
   ],
   "source": [
    "basic_info = []\n",
    "for item in content_list:\n",
    "    basic_info.append(item.find_all('li', attrs={'class': 'subaru'}))\n",
    "    \n",
    "print(basic_info)"
   ]
  },
  {
   "cell_type": "code",
   "execution_count": null,
   "id": "af44d08f",
   "metadata": {},
   "outputs": [],
   "source": []
  },
  {
   "cell_type": "code",
   "execution_count": null,
   "id": "f453e8d8",
   "metadata": {},
   "outputs": [],
   "source": []
  },
  {
   "cell_type": "code",
   "execution_count": null,
   "id": "c9efc68c",
   "metadata": {},
   "outputs": [],
   "source": []
  }
 ],
 "metadata": {
  "kernelspec": {
   "display_name": "Python 3 (ipykernel)",
   "language": "python",
   "name": "python3"
  },
  "language_info": {
   "codemirror_mode": {
    "name": "ipython",
    "version": 3
   },
   "file_extension": ".py",
   "mimetype": "text/x-python",
   "name": "python",
   "nbconvert_exporter": "python",
   "pygments_lexer": "ipython3",
   "version": "3.7.11"
  }
 },
 "nbformat": 4,
 "nbformat_minor": 5
}
